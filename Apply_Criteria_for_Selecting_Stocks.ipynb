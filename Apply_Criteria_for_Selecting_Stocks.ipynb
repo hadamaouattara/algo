{
  "nbformat": 4,
  "nbformat_minor": 0,
  "metadata": {
    "colab": {
      "name": "Apply Criteria for Selecting Stocks.ipynb",
      "provenance": [],
      "authorship_tag": "ABX9TyPTydMLHI9zejsyGjahkM8U",
      "include_colab_link": true
    },
    "kernelspec": {
      "name": "python3",
      "display_name": "Python 3"
    }
  },
  "cells": [
    {
      "cell_type": "markdown",
      "metadata": {
        "id": "view-in-github",
        "colab_type": "text"
      },
      "source": [
        "<a href=\"https://colab.research.google.com/github/hadamaouattara/algo/blob/master/Apply_Criteria_for_Selecting_Stocks.ipynb\" target=\"_parent\"><img src=\"https://colab.research.google.com/assets/colab-badge.svg\" alt=\"Open In Colab\"/></a>"
      ]
    },
    {
      "cell_type": "markdown",
      "metadata": {
        "id": "JPY4polUAnpK",
        "colab_type": "text"
      },
      "source": [
        "Notebook Instructions\n",
        "You can run the notebook document sequentially (one cell at a time) by pressing shift + enter. While a cell is running, a [*] will display on the left. When it has been run, a number will display indicating the order in which it was run in the notebook [8].\n",
        "\n",
        "Enter edit mode by pressing Enter or using the mouse to click on a cell's editor area. Edit mode is indicated by a green cell border and a prompt showing in the editor area.\n",
        "\n",
        "This course is based on specific versions of python packages. You can find the details of the same in this manual. The manual also explains how to use these codes in other versions of python packages.\n",
        "\n",
        "Creating a Stock Filter\n",
        "We have a large number of stocks in the world to day trade. However, as we have seen in the previous video, we do not consider all of them and use only those which fulfil our criteria.\n",
        "\n",
        "Thus, we screen our stock universe and create a potential list of stocks which can be used for day trading. For this notebook, we have taken the stocks in the S&P500 as our initial list. After completing this notebook, you will be able to use the filtered stock list as a potential list of stocks which can be used in your trading strategies.\n",
        "\n",
        "The steps followed in this notebook are:\n",
        "\n",
        "Reading the volume and price data\n",
        "Calculating the volatility of the stock\n",
        "Calculating the average price of the stock\n",
        "Calculating the average dollar volume traded\n",
        "Filtering the stocks\n",
        "Reading the volume and price data\n",
        "Files names:\n",
        "\n",
        "price_stocks_data_2020.csv, contains Adjusted Closing price data of stocks in S&P500\n",
        "volume_stocks_data_2020.csv, contains Volume data of stocks in S&P500\n",
        "This data is available in the last unit of this course."
      ]
    },
    {
      "cell_type": "code",
      "metadata": {
        "id": "gqwIriYaAEBs",
        "colab_type": "code",
        "colab": {
          "base_uri": "https://localhost:8080/",
          "height": 132
        },
        "outputId": "eb4065f1-459d-4d72-f16e-d1a08bd1a53d"
      },
      "source": [
        " Import pandas\n",
        "import pandas as pd\n",
        "\n",
        "# Price and Volume data is stored in the directory 'data'\n",
        "path = '../data'\n",
        "\n",
        "# Read the Adjusted Closing Price of the stocks comprising the S&P 500\n",
        "price = pd.read_csv(path+\"/price_stocks_data_2020.csv\", index_col=0)  \n",
        "\n",
        "# Print the first five rows and columns of the price dataframe to check the values loaded\n",
        "price.iloc[:5,:5]"
      ],
      "execution_count": 0,
      "outputs": [
        {
          "output_type": "error",
          "ename": "SyntaxError",
          "evalue": "ignored",
          "traceback": [
            "\u001b[0;36m  File \u001b[0;32m\"<ipython-input-1-2f4d50a298b6>\"\u001b[0;36m, line \u001b[0;32m1\u001b[0m\n\u001b[0;31m    Import pandas\u001b[0m\n\u001b[0m                ^\u001b[0m\n\u001b[0;31mSyntaxError\u001b[0m\u001b[0;31m:\u001b[0m invalid syntax\n"
          ]
        }
      ]
    },
    {
      "cell_type": "code",
      "metadata": {
        "id": "nwNhVRqoAnJq",
        "colab_type": "code",
        "colab": {}
      },
      "source": [
        ""
      ],
      "execution_count": 0,
      "outputs": []
    },
    {
      "cell_type": "code",
      "metadata": {
        "id": "JH45w76eA5e8",
        "colab_type": "code",
        "colab": {}
      },
      "source": [
        "# Read the Volume of the stocks comprising the S&P 500\n",
        "volume = pd.read_csv(path+\"/volume_stocks_data_2020.csv\", index_col=0)\n",
        "\n",
        "# Print the first five rows and columns of the volume dataframe to check the values loaded\n",
        "volume.iloc[:5,:5]"
      ],
      "execution_count": 0,
      "outputs": []
    },
    {
      "cell_type": "markdown",
      "metadata": {
        "id": "7jm_O2M7BHUJ",
        "colab_type": "text"
      },
      "source": [
        "Calculating the volatility of the stock\n",
        "To calculate daily volatility, you can follow below steps.\n",
        "\n",
        "Find the daily percentage change of the adjusted close price of the stocks using pct_change method\n",
        "Then calculate the standard deviation of it using std method\n",
        "Multiply it with 100\n",
        "The volatility helps us to estimate the daily movement of the stock."
      ]
    },
    {
      "cell_type": "code",
      "metadata": {
        "id": "UhMdNQY3BRp5",
        "colab_type": "code",
        "colab": {}
      },
      "source": [
        "# Create a new dataFrame to store the volatility, average price and average dollar volume traded\n",
        "stock = pd.DataFrame() \n",
        "\n",
        "# Create a new column for storing the volatility of a stock\n",
        "stock['volatility'] = price.pct_change().std()*100 \n",
        "stock.head()"
      ],
      "execution_count": 0,
      "outputs": []
    },
    {
      "cell_type": "markdown",
      "metadata": {
        "id": "mPpbRcK1Ba8g",
        "colab_type": "text"
      },
      "source": [
        "Calculating the average price of the stock¶\n",
        "In order to identify penny stocks, we calculate the average traded price using the mean method."
      ]
    },
    {
      "cell_type": "code",
      "metadata": {
        "id": "hn9FWmsWBf5b",
        "colab_type": "code",
        "colab": {}
      },
      "source": [
        "# Create a new column for storing the average price of the stock \n",
        "stock['price'] = price.mean() \n",
        "stock.head()"
      ],
      "execution_count": 0,
      "outputs": []
    },
    {
      "cell_type": "markdown",
      "metadata": {
        "id": "t0fjxSn-Brzz",
        "colab_type": "text"
      },
      "source": [
        "Calculating the average dollar volume traded¶\n",
        "You can calculate the average dollar volume as follows:\n",
        "\n",
        "Multiply price and volume for each day\n",
        "Take average of it using mean"
      ]
    },
    {
      "cell_type": "code",
      "metadata": {
        "id": "zdZQmxpnBw1T",
        "colab_type": "code",
        "colab": {}
      },
      "source": [
        "# Create a new column to store the average dollar volume\n",
        "stock['average_dollar_volume_traded'] = (price * volume).mean()\n",
        "\n",
        "# Printing the dataFrame to check the values\n",
        "stock.head() "
      ],
      "execution_count": 0,
      "outputs": []
    },
    {
      "cell_type": "code",
      "metadata": {
        "id": "zvsb9AUiB5yy",
        "colab_type": "code",
        "colab": {}
      },
      "source": [
        "# Print the number of elements in the dataFrame before we apply our conditions to screen the stocks\n",
        "len(stock) "
      ],
      "execution_count": 0,
      "outputs": []
    },
    {
      "cell_type": "markdown",
      "metadata": {
        "id": "aqA8Ip_TCGor",
        "colab_type": "text"
      },
      "source": [
        "You might be wondering why the number is 505. While there are 500 companies in the S&P500, 5 of its constituent companies have two share classes of stocks listed in the index. Hence, the number is 505\n",
        "Filtering the stocks"
      ]
    },
    {
      "cell_type": "code",
      "metadata": {
        "id": "dz43RazVCWOh",
        "colab_type": "code",
        "colab": {}
      },
      "source": [
        "# To make sure we do not have any penny stocks, we select only those stocks whose average price is more than 5\n",
        "cond_1 = stock['price'] > 5 \n",
        "\n",
        "# To make sure that the stocks are not too volatile, we are only selecting stocks whose percent change is less than 5\n",
        "cond_2 = stock['volatility'] < 5 \n",
        "\n",
        "# We are selecting only those stocks whose average dollar volume traded is more than 2 million\n",
        "cond_3 = stock['average_dollar_volume_traded'] > 2*10**6 "
      ],
      "execution_count": 0,
      "outputs": []
    },
    {
      "cell_type": "markdown",
      "metadata": {
        "id": "FnVCf43MCaaT",
        "colab_type": "text"
      },
      "source": [
        "These are the conditions which we have applied to our stock universe. Moving forward, you can create your conditions depending on your risk profile or interests."
      ]
    },
    {
      "cell_type": "code",
      "metadata": {
        "id": "zoohLjkCCfMc",
        "colab_type": "code",
        "colab": {}
      },
      "source": [
        "# We are storing only those stocks who fulfill all the three conditions\n",
        "filtered_stocks = stock.loc[cond_1 & cond_2 & cond_3]\n",
        "\n",
        "# We will print the first five elements of the filtered stock list\n",
        "filtered_stocks.head()"
      ],
      "execution_count": 0,
      "outputs": []
    },
    {
      "cell_type": "code",
      "metadata": {
        "id": "Nj_TsTNgCr2m",
        "colab_type": "code",
        "colab": {}
      },
      "source": [
        "# We will now check how many stocks were filtered after applying the above conditions\n",
        "len(filtered_stocks) "
      ],
      "execution_count": 0,
      "outputs": []
    },
    {
      "cell_type": "markdown",
      "metadata": {
        "id": "MF9oTJscCyJ1",
        "colab_type": "text"
      },
      "source": [
        "Conclusion\n",
        "Thus, while we had started with 505 stocks in our universe, we applied the three conditions and found only 388 satisfied the criteria. These stocks will be used later on when we are creating say trading strategies."
      ]
    }
  ]
}